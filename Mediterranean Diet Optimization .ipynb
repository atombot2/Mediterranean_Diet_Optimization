{
 "cells": [
  {
   "cell_type": "markdown",
   "id": "7c7bb248",
   "metadata": {},
   "source": [
    "### Introduction\n",
    "In this notebook I use the PuLP package to find the most calorie efficient Mediterranean diet. Or in other words, the foods that provide the most nutrients with the least amount of calories in an attempt to satisfy all nutritional needs."
   ]
  },
  {
   "cell_type": "markdown",
   "id": "db737494",
   "metadata": {},
   "source": [
    "Import the usual suspects pandas, numpy, sqlite and PuLP a package used to solve linear problems."
   ]
  },
  {
   "cell_type": "code",
   "execution_count": 82,
   "id": "02f52b85",
   "metadata": {},
   "outputs": [],
   "source": [
    "#Imports\n",
    "import pandas as pd\n",
    "import numpy as np\n",
    "import sqlite3 as db\n",
    "import csv\n",
    "#Used for linear optimization \n",
    "from pulp import *"
   ]
  },
  {
   "cell_type": "markdown",
   "id": "242c5214",
   "metadata": {},
   "source": [
    "### Getting USDA Food Nutrition Data\n",
    "Connecting to the db 'nutrients.db' that I saved locally from link:"
   ]
  },
  {
   "cell_type": "code",
   "execution_count": 83,
   "id": "5ffb61f1",
   "metadata": {},
   "outputs": [],
   "source": [
    "#Connect to the db\n",
    "conn = db.connect('nutrients.db')"
   ]
  },
  {
   "cell_type": "code",
   "execution_count": 84,
   "id": "5499accf",
   "metadata": {},
   "outputs": [],
   "source": [
    "# Create a 'cursor' to execute commands\n",
    "c = conn.cursor()"
   ]
  },
  {
   "cell_type": "code",
   "execution_count": 85,
   "id": "32c131fe",
   "metadata": {},
   "outputs": [],
   "source": [
    "#Convert the table 'nutrients' to a pandas df named usda\n",
    "dat = db.connect('nutrients.db')\n",
    "query = dat.execute(\"SELECT * From nut_data\")\n",
    "cols = [column[0] for column in query.description]\n",
    "usda = pd.DataFrame.from_records(data = query.fetchall(), columns = cols)"
   ]
  },
  {
   "cell_type": "markdown",
   "id": "0c2b8516",
   "metadata": {},
   "source": [
    "## Pulling list of foods and RDI values\n",
    "Here we are converting two csv files into pandas dataframes. The first is a list of 100 foods that are part of the mediterranean diet. The second is a list of micronutrients that we want our solution to optimize for."
   ]
  },
  {
   "cell_type": "code",
   "execution_count": 86,
   "id": "e36fa23a",
   "metadata": {},
   "outputs": [],
   "source": [
    "med_foods = pd.read_csv('Med_Diet_Food.csv', converters={'ID Number': lambda x: str(x)})\n",
    "rdi_nutrients = pd.read_csv(\"RDI_Nutrients.csv\")"
   ]
  },
  {
   "cell_type": "markdown",
   "id": "6664949d",
   "metadata": {},
   "source": [
    "Next we want to take only the Mediterranean food subset of the usda database"
   ]
  },
  {
   "cell_type": "code",
   "execution_count": 87,
   "id": "670f2724",
   "metadata": {},
   "outputs": [],
   "source": [
    "foods_list = med_foods['ID Number'].tolist()\n",
    "usda_med_foods = usda.loc[usda['NDB_No'].isin(foods_list)]"
   ]
  },
  {
   "cell_type": "markdown",
   "id": "645f159c",
   "metadata": {},
   "source": [
    "Next we will convert the food Id Numbers and Nutrition Numbers to strings to keep the type consistent throughout the three tables"
   ]
  },
  {
   "cell_type": "code",
   "execution_count": 88,
   "id": "8935b6c5",
   "metadata": {},
   "outputs": [
    {
     "name": "stderr",
     "output_type": "stream",
     "text": [
      "/var/folders/xc/sqdfq69964zgmn2123jcdf0h0000gn/T/ipykernel_1426/2238444233.py:2: SettingWithCopyWarning: \n",
      "A value is trying to be set on a copy of a slice from a DataFrame.\n",
      "Try using .loc[row_indexer,col_indexer] = value instead\n",
      "\n",
      "See the caveats in the documentation: https://pandas.pydata.org/pandas-docs/stable/user_guide/indexing.html#returning-a-view-versus-a-copy\n",
      "  usda_med_foods['Nutr_No'] = usda_med_foods['Nutr_No'].astype('string')\n"
     ]
    }
   ],
   "source": [
    "#Convert the Nutr_No to a string\n",
    "usda_med_foods['Nutr_No'] = usda_med_foods['Nutr_No'].astype('string')\n",
    "#Convert ID Number to a string although the lambda function from above does the same\n",
    "med_foods['ID Number'] = med_foods['ID Number'].astype('string')\n",
    "#Convert the Nutr_No in the rdi_nutrients table to a string\n",
    "rdi_nutrients['Nutr_No'] = rdi_nutrients['Nutr_No'].astype('string')"
   ]
  },
  {
   "cell_type": "markdown",
   "id": "6e78bf86",
   "metadata": {},
   "source": [
    "Our end goal is to have a df of the list of mediterranean foods with their micronutrient amounts (per 100g). To do this, we need to add a column for each micronutrient to each food in our list."
   ]
  },
  {
   "cell_type": "code",
   "execution_count": 89,
   "id": "d17cee24",
   "metadata": {},
   "outputs": [],
   "source": [
    "#Add the nutrients as columns to med_foods df\n",
    "nutr_list = rdi_nutrients['Nutr_No'] \n",
    "for i in nutr_list:\n",
    "    med_foods[i] = ''"
   ]
  },
  {
   "cell_type": "markdown",
   "id": "b797e058",
   "metadata": {},
   "source": [
    "These next steps are optional, but when I first tried to solve this problem the solution contained unrealistic amounts of red wine vinegar and certain spices. Although, it was surprising to find out how nutritious and low calorie these items are, most people will find it difficult to eat these items in large quantities."
   ]
  },
  {
   "cell_type": "code",
   "execution_count": 90,
   "id": "afde2b56",
   "metadata": {},
   "outputs": [],
   "source": [
    "#drop balsamic and red wine vinegar\n",
    "med_foods = med_foods.drop([2,3],axis=0)"
   ]
  },
  {
   "cell_type": "code",
   "execution_count": 91,
   "id": "2ee45b78",
   "metadata": {},
   "outputs": [],
   "source": [
    "#Drop Duplicate Broccoli\n",
    "med_foods = med_foods.drop([13],axis=0)"
   ]
  },
  {
   "cell_type": "code",
   "execution_count": 92,
   "id": "399998ea",
   "metadata": {},
   "outputs": [],
   "source": [
    "#Remove beef\n",
    "med_foods = med_foods.drop([54],axis=0)"
   ]
  },
  {
   "cell_type": "code",
   "execution_count": 93,
   "id": "41d1e00a",
   "metadata": {},
   "outputs": [],
   "source": [
    "#Need to remove all of the spices (indices 83 to 99) because these are hard to eat in large quantities\n",
    "med_foods.drop(med_foods.loc[83:99].index, inplace=True)"
   ]
  },
  {
   "cell_type": "code",
   "execution_count": 94,
   "id": "66420f83",
   "metadata": {},
   "outputs": [],
   "source": [
    "#Remove spices\n",
    "med_foods.drop(med_foods.loc[80:81].index, inplace=True)"
   ]
  },
  {
   "cell_type": "code",
   "execution_count": 95,
   "id": "4423a784",
   "metadata": {},
   "outputs": [],
   "source": [
    "#Reset index and add new index\n",
    "med_foods=med_foods.reset_index()\n",
    "med_foods = med_foods.drop(['index'],axis=1)"
   ]
  },
  {
   "cell_type": "markdown",
   "id": "91752e15",
   "metadata": {},
   "source": [
    "Now we will add the nutrition values for each food left in our list of foods."
   ]
  },
  {
   "cell_type": "code",
   "execution_count": 96,
   "id": "185f21a1",
   "metadata": {},
   "outputs": [],
   "source": [
    "#For each row in med_foods, add the nutrient values for each column\n",
    "for i in med_foods['ID Number']:\n",
    "    for j in rdi_nutrients['Nutr_No']:\n",
    "        if usda_med_foods.loc[(usda_med_foods.NDB_No == i) & (usda_med_foods.Nutr_No == j)]['Nutr_Val'].empty:\n",
    "            val = np.NaN\n",
    "        else:\n",
    "            val = float(usda_med_foods.loc[(usda_med_foods.NDB_No == i) & (usda_med_foods.Nutr_No == j)]['Nutr_Val'])\n",
    "        med_foods.loc[med_foods['ID Number'] == i,j] = val"
   ]
  },
  {
   "cell_type": "code",
   "execution_count": 98,
   "id": "529eb8e5",
   "metadata": {},
   "outputs": [],
   "source": [
    "#fill the NaN with 0.0\n",
    "med_foods = med_foods.fillna(0.0)"
   ]
  },
  {
   "cell_type": "markdown",
   "id": "ba3a2a74",
   "metadata": {},
   "source": [
    "### Linear Programming \n",
    "Now we can begin using the table that we created med_foods to solve our optimization problem"
   ]
  },
  {
   "cell_type": "code",
   "execution_count": 101,
   "id": "da07c724",
   "metadata": {},
   "outputs": [
    {
     "name": "stderr",
     "output_type": "stream",
     "text": [
      "/Users/virginiasahagun/opt/anaconda3/lib/python3.9/site-packages/pulp/pulp.py:1352: UserWarning: Spaces are not permitted in the name. Converted to '_'\n",
      "  warnings.warn(\"Spaces are not permitted in the name. Converted to '_'\")\n"
     ]
    }
   ],
   "source": [
    "#Create an LP problem with LpProblem method in PuLP\n",
    "prob = LpProblem(\"Simple Diet Problem\",LpMinimize)"
   ]
  },
  {
   "cell_type": "code",
   "execution_count": 102,
   "id": "58796335",
   "metadata": {},
   "outputs": [],
   "source": [
    "#Create dictionaries needed for problem\n",
    "food_items = list(med_foods['Food'])\n",
    "\n",
    "#Dict for Calories for all foods Calories = 208\n",
    "calories = dict(zip(food_items,med_foods['208']))\n",
    "\n",
    "#Dict for Protein\n",
    "protein = dict(zip(food_items,med_foods['203']))\n",
    "\n",
    "#Dict for carbs\n",
    "carbs = dict(zip(food_items,med_foods['205']))\n",
    "\n",
    "#Dict for fat\n",
    "fat = dict(zip(food_items,med_foods['204']))\n",
    "\n",
    "#Dict for Vit A\n",
    "vit_A = dict(zip(food_items,med_foods['318']))\n",
    "\n",
    "#Dict for Vit C\n",
    "vit_C = dict(zip(food_items,med_foods['401']))\n",
    "\n",
    "#Calcium\n",
    "Calcium = dict(zip(food_items,med_foods['301']))\n",
    "\n",
    "#Iron\n",
    "Iron = dict(zip(food_items,med_foods['303']))\n",
    "\n",
    "#Vit E\n",
    "vit_E = dict(zip(food_items,med_foods['323']))\n",
    "\n",
    "#Vit K\n",
    "vit_K = dict(zip(food_items,med_foods['430']))\n",
    "\n",
    "#thiamine\n",
    "thiamine = dict(zip(food_items,med_foods['404']))\n",
    "\n",
    "#riboflavin\n",
    "riboflavin = dict(zip(food_items,med_foods['405']))\n",
    "\n",
    "#niacin\n",
    "niacin = dict(zip(food_items,med_foods['406']))\n",
    "\n",
    "#vit_b6\n",
    "vit_b6 = dict(zip(food_items,med_foods['415']))\n",
    "\n",
    "#folate\n",
    "folate = dict(zip(food_items,med_foods['417']))\n",
    "\n",
    "#vit_b12\n",
    "vit_b12 = dict(zip(food_items,med_foods['418']))\n",
    "\n",
    "#pantothenic_acid \n",
    "pantothenic_acid = dict(zip(food_items,med_foods['410']))\n",
    "\n",
    "#phosphorus \n",
    "phosphorus = dict(zip(food_items,med_foods['305']))\n",
    "\n",
    "#magnesium\n",
    "magnesium = dict(zip(food_items,med_foods['304']))\n",
    "\n",
    "#zinc\n",
    "zinc = dict(zip(food_items,med_foods['309']))\n",
    "\n",
    "#selenium\n",
    "selenium = dict(zip(food_items,med_foods['317']))\n",
    "\n",
    "#copper\n",
    "copper = dict(zip(food_items,med_foods['312']))\n",
    "\n",
    "#manganese\n",
    "manganese = dict(zip(food_items,med_foods['315']))\n",
    "\n",
    "#potassium\n",
    "potassium = dict(zip(food_items,med_foods['306']))\n",
    "\n",
    "#choline\n",
    "choline = dict(zip(food_items,med_foods['421']))\n",
    "\n",
    "#dha\n",
    "dha = dict(zip(food_items,med_foods['621']))\n",
    "\n",
    "#epa\n",
    "epa = dict(zip(food_items,med_foods['629']))\n",
    "\n",
    "#ala\n",
    "ala = dict(zip(food_items,med_foods['851']))"
   ]
  },
  {
   "cell_type": "code",
   "execution_count": 103,
   "id": "4c3dc12c",
   "metadata": {},
   "outputs": [],
   "source": [
    "food_vars = LpVariable.dicts(\"Food\",food_items,lowBound=0,cat='Continuous')"
   ]
  },
  {
   "cell_type": "code",
   "execution_count": 104,
   "id": "7e273231",
   "metadata": {},
   "outputs": [],
   "source": [
    "prob += lpSum([calories[i]*food_vars[i] for i in food_items])"
   ]
  },
  {
   "cell_type": "code",
   "execution_count": 105,
   "id": "998bbcc7",
   "metadata": {},
   "outputs": [],
   "source": [
    "# Calories\n",
    "#prob += lpSum([calories[f] * food_vars[f] for f in food_items]) >= 800.0, \"calorieMinimum\"\n",
    "prob += lpSum([calories[f] * food_vars[f] for f in food_items]) <= 2000.0, \"calorieMaximum\"\n",
    "\n",
    "# Carbs\n",
    "#prob += lpSum([carbs[f] * food_vars[f] for f in food_items]) >= 20.0, \"CarbsMinimum\"\n",
    "prob += lpSum([carbs[f] * food_vars[f] for f in food_items]) <= 100.0, \"CarbsMaximum\"\n",
    "\n",
    "# vit_A\n",
    "prob += lpSum([vit_A[f] * food_vars[f] for f in food_items]) >= 3000.0, \"vit_AMinimum\"\n",
    "\n",
    "# vit_C\n",
    "prob += lpSum([vit_C[f] * food_vars[f] for f in food_items]) >= 90.0, \"vit_CMinimum\"\n",
    "\n",
    "# Calcium\n",
    "prob += lpSum([Calcium[f] * food_vars[f] for f in food_items]) >= 1000.0, \"CalciumMinimum\"\n",
    "\n",
    "# Iron\n",
    "prob += lpSum([Iron[f] * food_vars[f] for f in food_items]) >= 18.0, \"IronMinimum\"\n",
    "\n",
    "# vit_K\n",
    "prob += lpSum([vit_K[f] * food_vars[f] for f in food_items]) >= 120.0, \"vit_KMinimum\"\n",
    "\n",
    "# thiamine\n",
    "prob += lpSum([thiamine[f] * food_vars[f] for f in food_items]) >= 1.2, \"thiamineMinimum\"\n",
    "\n",
    "# riboflavin\n",
    "prob += lpSum([riboflavin[f] * food_vars[f] for f in food_items]) >= 1.3, \"riboflavinMinimum\"\n",
    "\n",
    "# niacin\n",
    "prob += lpSum([niacin[f] * food_vars[f] for f in food_items]) >= 16.0, \"niacinMinimum\"\n",
    "\n",
    "# vit_b6\n",
    "prob += lpSum([vit_b6[f] * food_vars[f] for f in food_items]) >= 1.7, \"vit_b6Minimum\"\n",
    "#prob += lpSum([vit_b6[f] * food_vars[f] for f in food_items]) <= 2.1, \"vit_b6Maximum\"\n",
    "\n",
    "# folate\n",
    "prob += lpSum([folate[f] * food_vars[f] for f in food_items]) >= 400.0, \"folateMinimum\"\n",
    "\n",
    "# vit_b12\n",
    "prob += lpSum([vit_b12[f] * food_vars[f] for f in food_items]) >= 3, \"vit_b12Minimum\"\n",
    "\n",
    "# pantothenic_acid\n",
    "prob += lpSum([pantothenic_acid[f] * food_vars[f] for f in food_items]) >= 5.0, \"pantothenic_acidMinimum\"\n",
    "\n",
    "# phosphorus\n",
    "prob += lpSum([phosphorus[f] * food_vars[f] for f in food_items]) >= 1250.0, \"phosphorusMinimum\"\n",
    "\n",
    "# magnesium\n",
    "prob += lpSum([magnesium[f] * food_vars[f] for f in food_items]) >= 420.0, \"magnesiumMinimum\"\n",
    "\n",
    "# zinc\n",
    "prob += lpSum([zinc[f] * food_vars[f] for f in food_items]) >= 11.0, \"zincMinimum\"\n",
    "\n",
    "# selenium\n",
    "prob += lpSum([selenium[f] * food_vars[f] for f in food_items]) >= 55.0, \"seleniumMinimum\"\n",
    "\n",
    "# copper\n",
    "prob += lpSum([copper[f] * food_vars[f] for f in food_items]) >= 0.9, \"copperMinimum\"\n",
    "\n",
    "# manganese\n",
    "prob += lpSum([manganese[f] * food_vars[f] for f in food_items]) >= 2.3, \"manganeseMinimum\"\n",
    "\n",
    "# potassium\n",
    "prob += lpSum([potassium[f] * food_vars[f] for f in food_items]) >= 4700, \"potassiumMinimum\"\n",
    "\n",
    "# choline\n",
    "prob += lpSum([choline[f] * food_vars[f] for f in food_items]) >= 550, \"cholineMinimum\"\n",
    "\n",
    "# dha\n",
    "prob += lpSum([dha[f] * food_vars[f] for f in food_items]) >= 0.5, \"dhaMinimum\"\n",
    "\n",
    "# epa\n",
    "prob += lpSum([epa[f] * food_vars[f] for f in food_items]) >= 0.5, \"epaMinimum\"\n",
    "\n",
    "\n",
    "# ala\n",
    "prob += lpSum([ala[f] * food_vars[f] for f in food_items]) >= 1.6, \"alaMinimum\""
   ]
  },
  {
   "cell_type": "code",
   "execution_count": 106,
   "id": "d313b88d",
   "metadata": {},
   "outputs": [
    {
     "name": "stdout",
     "output_type": "stream",
     "text": [
      "Welcome to the CBC MILP Solver \n",
      "Version: 2.10.3 \n",
      "Build Date: Dec 15 2019 \n",
      "\n",
      "command line - /Users/virginiasahagun/opt/anaconda3/lib/python3.9/site-packages/pulp/apis/../solverdir/cbc/osx/64/cbc /var/folders/xc/sqdfq69964zgmn2123jcdf0h0000gn/T/4ca3b4529be546b7885b9c3da996abe7-pulp.mps timeMode elapsed branch printingOptions all solution /var/folders/xc/sqdfq69964zgmn2123jcdf0h0000gn/T/4ca3b4529be546b7885b9c3da996abe7-pulp.sol (default strategy 1)\n",
      "At line 2 NAME          MODEL\n",
      "At line 3 ROWS\n",
      "At line 30 COLUMNS\n",
      "At line 1657 RHS\n",
      "At line 1683 BOUNDS\n",
      "At line 1684 ENDATA\n",
      "Problem MODEL has 25 rows, 77 columns and 1549 elements\n",
      "Coin0008I MODEL read with 0 errors\n",
      "Option for timeMode changed from cpu to elapsed\n",
      "Presolve 25 (0) rows, 76 (-1) columns and 1547 (-2) elements\n",
      "0  Obj 0 Primal inf 558.57783 (23)\n",
      "10  Obj 751.25047\n",
      "Optimal - objective value 751.25047\n",
      "After Postsolve, objective 751.25047, infeasibilities - dual 0 (0), primal 0 (0)\n",
      "Optimal objective 751.2504661 - 10 iterations time 0.002, Presolve 0.00\n",
      "Option for printingOptions changed from normal to all\n",
      "Total time (CPU seconds):       0.00   (Wallclock seconds):       0.00\n",
      "\n"
     ]
    },
    {
     "data": {
      "text/plain": [
       "1"
      ]
     },
     "execution_count": 106,
     "metadata": {},
     "output_type": "execute_result"
    }
   ],
   "source": [
    "prob.solve()"
   ]
  },
  {
   "cell_type": "code",
   "execution_count": 107,
   "id": "32ebd187",
   "metadata": {},
   "outputs": [
    {
     "name": "stdout",
     "output_type": "stream",
     "text": [
      "Status: Optimal\n"
     ]
    }
   ],
   "source": [
    "print(\"Status:\", LpStatus[prob.status])"
   ]
  },
  {
   "cell_type": "code",
   "execution_count": 108,
   "id": "b40831c2",
   "metadata": {},
   "outputs": [
    {
     "name": "stdout",
     "output_type": "stream",
     "text": [
      "Food_Anchovies = 0.6515848\n",
      "Food_Arugula = 0.33524805\n",
      "Food_Beet_Greens = 2.9796469\n",
      "Food_Clams = 0.020585516\n",
      "Food_Eggs = 0.51434696\n",
      "Food_Zucchini = 26.229508\n"
     ]
    }
   ],
   "source": [
    "for v in prob.variables():\n",
    "    if v.varValue>0:\n",
    "        print(v.name, \"=\", v.varValue)"
   ]
  },
  {
   "cell_type": "markdown",
   "id": "2c1b7436",
   "metadata": {},
   "source": [
    "What does this mean in human? Since the usda serving size is 100g for all foods, we simply need to multiply these values by 100, to calculate how many grams of each item we would need to consume. For example, 0.65 x 100 equals 65g of anchovies, or a little less than 2.5 oz. "
   ]
  },
  {
   "cell_type": "markdown",
   "id": "9e4e006f",
   "metadata": {},
   "source": [
    "### Conclusion\n",
    "This solution starts off reasonable enough, but once you get to the last line you realize that it requires us to consume 2600 grams of zucchini per day. That is equivalent to 26 small or 15 medium sized zucchinis, a daily feat that would likely be unrealistic for most people. The zucchini notwithstanding, this solution does a really great job of providing most micronutrients (see the Vit_Min_Cronometer Screenshot file), and it accomplishes this with only 655 calories for all items. This leaves enough room for the 4 tablespoons of olive oil a day that are consumed in the Mediterranean, and that may provide many of the health benenfits but that do not provide many other micronutrients beyond Vitimin E. The only two nutrients that are not covered by our solution are Vitamin D (which I omitted because of how difficult it is to get from diet alone) and Vitamin B12. However, upping the serving of clams from 2g a day to 8g bridges the Vitamin B12 gap at a minimal calorie cost of about 9 calories. These tweaks, including the olive oil, bring the total calorie count to 1132 calories a day leaving enough room to add more variety, whatever form that might take."
   ]
  },
  {
   "cell_type": "code",
   "execution_count": null,
   "id": "f7a96aa9",
   "metadata": {},
   "outputs": [],
   "source": []
  }
 ],
 "metadata": {
  "kernelspec": {
   "display_name": "Python 3 (ipykernel)",
   "language": "python",
   "name": "python3"
  },
  "language_info": {
   "codemirror_mode": {
    "name": "ipython",
    "version": 3
   },
   "file_extension": ".py",
   "mimetype": "text/x-python",
   "name": "python",
   "nbconvert_exporter": "python",
   "pygments_lexer": "ipython3",
   "version": "3.9.7"
  }
 },
 "nbformat": 4,
 "nbformat_minor": 5
}
